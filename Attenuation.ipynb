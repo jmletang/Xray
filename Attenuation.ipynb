{
 "cells": [
  {
   "cell_type": "markdown",
   "metadata": {
    "hide_input": true,
    "slideshow": {
     "slide_type": "slide"
    }
   },
   "source": [
    "# Attenuation\n",
    "Beer-Lambert's law is given by\n",
    "$$\n",
    "N_{dt} = N_0 \\exp{-\\mu x}\n",
    "$$\n",
    "where $\\mu$ stands for the linear attenuation coefficient\n",
    "\n",
    "## Mass attenuation coefficients of elements\n",
    "$$\n",
    "\\mu = \\sum_{i\\in\\mathsf{Interactions}} \\mu_i = \\rho \\frac{\\mathcal{N}_A}{A} \\left(\n",
    "\\sum_{i\\in\\mathsf{Interactions}}\\sigma_i\\right)\n",
    "$$\n",
    "where $\\sigma_i$, which does not depend on the density $\\rho$, is the cross section (in cm$^2$) of interaction $i$ for the material"
   ]
  },
  {
   "cell_type": "code",
   "execution_count": null,
   "metadata": {
    "hide_input": false
   },
   "outputs": [],
   "source": [
    "from __future__ import print_function\n",
    "from ipywidgets import interact, interactive, fixed, interact_manual\n",
    "import ipywidgets as widgets\n",
    "import sys\n",
    "import os\n",
    "import numpy as np\n",
    "import xraylib as xrl\n",
    "import xraylib_np as xrl_np\n",
    "%matplotlib inline\n",
    "import matplotlib.pyplot as plt\n",
    "import matplotlib.ticker as tic\n",
    "import matplotlib as mpl\n",
    "\n",
    "xrl.XRayInit()\n",
    "\n",
    "def mu(Z=13,components=False):\n",
    "    energy_range = np.arange(5.,800., 0.1, dtype=np.double)\n",
    "    density = xrl.ElementDensity(Z)\n",
    "    mu_rho = [xrl.CS_Total(Z, E) for E in energy_range]\n",
    "    if components:\n",
    "        mu_rho_Photo = [xrl.CS_Photo(Z, E) for E in energy_range]\n",
    "        mu_rho_Compt = [xrl.CS_Compt(Z, E) for E in energy_range]\n",
    "        mu_rho_Rayl = [xrl.CS_Rayl(Z, E) for E in energy_range]\n",
    "    plt.figure(dpi=150)\n",
    "    mpl.rcParams.update({'font.size': 6})\n",
    "    axMW = plt.subplot(111)\n",
    "#    axMW.plot(energy_range, mu_rho,color=\"black\",linewidth=2.,linestyle=\"-\",label='Total')\n",
    "    axMW.plot(energy_range, mu_rho,color=\"black\",linewidth=2.,linestyle=\"-\",label='')\n",
    "    if components:\n",
    "#        axMW.plot(energy_range, mu_rho_Photo,color=\"red\",linewidth=2.,linestyle=\"-\",label='Photoélectrique')\n",
    "#        axMW.plot(energy_range, mu_rho_Compt,color=\"blue\",linewidth=2.,linestyle=\"-\",label='Diffusion Compton')\n",
    "#        axMW.plot(energy_range, mu_rho_Rayl,color=\"green\",linewidth=2.,linestyle=\"-\",label='Diffusion Rayleigh')\n",
    "        axMW.plot(energy_range, mu_rho_Photo,color=\"red\",linewidth=2.,linestyle=\"-\",label='')\n",
    "        axMW.plot(energy_range, mu_rho_Compt,color=\"blue\",linewidth=2.,linestyle=\"-\",label='')\n",
    "        axMW.plot(energy_range, mu_rho_Rayl,color=\"green\",linewidth=2.,linestyle=\"-\",label='')\n",
    "    axMW.set_xscale('log')\n",
    "    axMW.set_yscale('log')\n",
    "    axMW.set_xlim(5.,800.)\n",
    "    axMW.set_ylim(0.01,1000.)\n",
    "    #plt.legend(loc='center right', frameon=True)\n",
    "    plt.xlabel('Énergie (keV)')\n",
    "    plt.ylabel(\"Coefficient d'atténuation massique (cm$^{2}\\\\cdot$ g$^{-1}$)\")\n",
    "    axMW.grid(which='major', axis='x', linewidth=0.5, linestyle='-', color='0.75')\n",
    "    axMW.grid(which='minor', axis='x', linewidth=0.3, linestyle='-', color='0.75')\n",
    "    axMW.grid(which='major', axis='y', linewidth=0.5, linestyle='-', color='0.75')\n",
    "    axMW.grid(which='minor', axis='y', linewidth=0.3, linestyle='-', color='0.75')\n",
    "    axMW.xaxis.set_major_formatter(tic.FormatStrFormatter(\"%d\"))\n",
    "    #axMW.xaxis.set_minor_formatter(tic.FormatStrFormatter(\"%d\"))\n",
    "    axMW.grid(True)\n",
    "    symbol=xrl.AtomicNumberToSymbol(Z)\n",
    "    axMW.set_title(\"Matériau %s (densité = %.2f)\" % (symbol,density), va='bottom')\n",
    "    #plt.savefig('mu_over_rho_W.pdf', format='PDF')\n",
    "    \n",
    "    plt.show()\n",
    "\n",
    "interact(mu,Z=(1,92,1),components=False,continuous_update=False);"
   ]
  },
  {
   "cell_type": "markdown",
   "metadata": {},
   "source": [
    "## Cross-sections: dominant interaction domains\n",
    "\n",
    "Separation curve where $\\mu_{\\mathsf{PhotoElectric}}\\left(E\\right)= \\mu_{\\mathsf{Compton}}\\left(E\\right)$ in terms of atomic number $Z$"
   ]
  },
  {
   "cell_type": "code",
   "execution_count": null,
   "metadata": {},
   "outputs": [],
   "source": [
    "def equiv_CS():\n",
    "    energy_range = np.arange(1.,700.1, 0.1, dtype=np.double)\n",
    "    atomic_range = np.arange(1.,93., 1, dtype=np.int32)\n",
    "    energy_equiv = []\n",
    "    Emin = 1.\n",
    "    for Z in atomic_range:\n",
    "        Equiv = -1\n",
    "        for E in np.arange(Emin,700.1, 0.1, dtype=np.double):\n",
    "            mu_rho_Photo = xrl.CS_Photo(int(Z), E)\n",
    "            mu_rho_Compt = xrl.CS_Compt(int(Z), E)\n",
    "            #print(f\"PE({E})={mu_rho_Photo} <> CS({E})={mu_rho_Compt}\")\n",
    "            if  ((mu_rho_Photo < mu_rho_Compt)&(Equiv<0)):\n",
    "                Emin = E\n",
    "                Equiv = E\n",
    "                energy_equiv.append(E)\n",
    "\n",
    "    Z_equiv = np.interp(energy_range,energy_equiv,atomic_range)\n",
    "    plt.figure(dpi=160)\n",
    "    mpl.rcParams.update({'font.size': 6})\n",
    "    axMW = plt.subplot(111)\n",
    "    axMW.plot(energy_range, Z_equiv,color=\"black\",linewidth=2.,linestyle=\"-\")\n",
    "    axMW.set_xscale('log')\n",
    "    axMW.set_yscale('log')\n",
    "    axMW.set_xlim(3.,700.)\n",
    "    axMW.set_ylim(1,100.)\n",
    "    plt.xlabel('Photon energy [keV]')\n",
    "    plt.ylabel('Atomic number $Z$')\n",
    "    axMW.text(100, 2.5,'Compton-dominant domain', horizontalalignment='center',verticalalignment='center',bbox=dict(facecolor='blue', alpha=0.3))\n",
    "    axMW.text(20, 35,'Photoelectric-dominant domain', horizontalalignment='center',verticalalignment='center',bbox=dict(facecolor='red', alpha=0.3))\n",
    "    axMW.grid(which='major', axis='x', linewidth=0.5, linestyle='-', color='0.75')\n",
    "    axMW.grid(which='minor', axis='x', linewidth=0.3, linestyle='-', color='0.75')\n",
    "    axMW.grid(which='major', axis='y', linewidth=0.5, linestyle='-', color='0.75')\n",
    "    axMW.grid(which='minor', axis='y', linewidth=0.3, linestyle='-', color='0.75')\n",
    "    axMW.xaxis.set_major_formatter(tic.FormatStrFormatter(\"%d\"))\n",
    "    axMW.yaxis.set_major_formatter(tic.FormatStrFormatter(\"%d\"))\n",
    "    #axMW.xaxis.set_minor_formatter(tic.FormatStrFormatter(\"%d\"))\n",
    "    axMW.grid(True)\n",
    "    #symbol=xrl.AtomicNumberToSymbol(Z)\n",
    "    #axMW.set_title(f\"Mass attenuation coefficient vs energy for {symbol} (density = {density})\", va='bottom')\n",
    "    #plt.savefig('Equiv.pdf', format='PDF')\n",
    "    \n",
    "    plt.show()\n",
    "                \n",
    "equiv_CS()\n"
   ]
  },
  {
   "cell_type": "markdown",
   "metadata": {
    "slideshow": {
     "slide_type": "slide"
    }
   },
   "source": [
    "## Linear attenuation coefficient of compound\n",
    "The Bragg's addidivity rule is applied to compute the linear attenuation coefficient $\\mu$ for a compound\n",
    "$$\n",
    "\\mu = \\sum_{m\\in\\mathsf{Materials}} \\omega_m \\frac{\\mu_m}{\\rho_m}\n",
    "$$"
   ]
  },
  {
   "cell_type": "code",
   "execution_count": null,
   "metadata": {
    "hide_input": false
   },
   "outputs": [],
   "source": [
    "def mus(mat1=\"Mg\",rho1=1.74,mat2=\"C2F4\",rho2=2.25):\n",
    "\n",
    "    energy_range = np.arange(5.,800., 0.1, dtype=np.double)\n",
    "\n",
    "    #cp_data = xrl.GetCompoundDataNISTByIndex(xrl.NIST_COMPOUND_RUBBER_BUTYL);\n",
    "\n",
    "    mu1 = [xrl.CS_Total_CP(mat1, E) * float(rho1) for E in energy_range]\n",
    "    mu2 = [xrl.CS_Total_CP(mat2, E) * float(rho2) for E in energy_range]\n",
    "\n",
    "    #murho_Photo = xrl_np.CS_Photo(atomic_number, energy_range)\n",
    "    #murho_Compt = xrl_np.CS_Compt(atomic_number, energy_range)\n",
    "    #murho_Energy = xrl_np.CS_Energy(atomic_number, energy_range)\n",
    "    #murho_Total = xrl_np.CS_Total(atomic_number, energy_range)\n",
    "\n",
    "    plt.figure(1,dpi=150)\n",
    "    mpl.rcParams.update({'font.size': 6})\n",
    "    axMW = plt.subplot(111)\n",
    "    axMW.plot(energy_range, mu1,color=\"black\",linewidth=2.,linestyle=\"-\",label=mat1)\n",
    "    axMW.plot(energy_range, mu2,color=\"red\",linewidth=1.5,linestyle=\"-\",label=mat2)\n",
    "    #axMW.plot(energy_range, W_murho_Energy[0])\n",
    "    axMW.set_xscale('log')\n",
    "    axMW.set_yscale('log')\n",
    "    axMW.set_xlim(5.,800.)\n",
    "    #axMW.set_ylim(0.05,1000.)\n",
    "    plt.legend(loc='center right', frameon=True)\n",
    "    plt.xlabel('Énergie (keV)')\n",
    "    plt.ylabel(\"Coefficient d'atténuation linéique (cm$^{-1}$)\")\n",
    "    axMW.grid(which='major', axis='x', linewidth=0.5, linestyle='-', color='0.75')\n",
    "    axMW.grid(which='minor', axis='x', linewidth=0.3, linestyle='-', color='0.75')\n",
    "    axMW.grid(which='major', axis='y', linewidth=0.5, linestyle='-', color='0.75')\n",
    "    axMW.grid(which='minor', axis='y', linewidth=0.3, linestyle='-', color='0.75')\n",
    "    axMW.xaxis.set_major_formatter(tic.FormatStrFormatter(\"%d\"))\n",
    "    #axMW.xaxis.set_minor_formatter(tic.FormatStrFormatter(\"%d\"))\n",
    "    axMW.grid(True)\n",
    "    #axMW.set_title(\"Beer-Lambert\", va='bottom')\n",
    "    #plt.savefig('mu_over_rho_W.pdf', format='PDF')\n",
    "    \n",
    "    plt.show()\n",
    "\n",
    "interact(mus,mat1=\"Mg\",rho1=(0.,20,0.1),mat2=\"C2F4\",rho2=(0.,20,0.1),continuous_update=False);"
   ]
  },
  {
   "cell_type": "markdown",
   "metadata": {
    "slideshow": {
     "slide_type": "slide"
    }
   },
   "source": [
    "## Differential cross section\n",
    "The differential cross section (DCS) is the derivative of the cross section $\\sigma$ wrt the solid angle\n",
    "$$\n",
    "DCS = \\frac{\\mathrm{d}\\sigma}{\\mathrm{d}\\Omega}\n",
    "$$\n",
    "and is expressed in cm$^2\\cdot$sr$^{-1}$. It represents the probability for a photon to be scattered by a given direction $\\theta$ away from the incident direction."
   ]
  },
  {
   "cell_type": "code",
   "execution_count": null,
   "metadata": {
    "hide_input": true
   },
   "outputs": [],
   "source": [
    "def dcs(Z=13,E=10.):\n",
    "    atomic_number = np.array([Z])\n",
    "    symbol=xrl.AtomicNumberToSymbol(Z)\n",
    "    energies = np.array([E])\n",
    "    theta = np.arange(0., 2.*np.pi, np.pi/1000., dtype=np.double)\n",
    "\n",
    "    isotropic = np.ones(len(theta))/(4.*np.pi)\n",
    "    \n",
    "    dcs_Rayl = xrl_np.DCS_Rayl(atomic_number, energies, theta)\n",
    "    cs_Rayl = xrl_np.CS_Rayl(atomic_number, energies)\n",
    "\n",
    "    dcs_Compt = xrl_np.DCS_Compt(atomic_number, energies, theta)\n",
    "    cs_Compt = xrl_np.CS_Compt(atomic_number, energies)\n",
    "\n",
    "    rel_dcs_Rayl = np.divide(dcs_Rayl[0][0],cs_Rayl[0][0])\n",
    "    rel_dcs_Compt = np.divide(dcs_Compt[0][0],cs_Compt[0][0])\n",
    "    \n",
    "    plt.figure(dpi=150)\n",
    "    mpl.rcParams.update({'font.size': 6})\n",
    "    axR = plt.subplot(121, projection='polar')\n",
    "    axR.plot(theta, rel_dcs_Rayl, label=\"Rayleigh\", color=\"red\")\n",
    "    axR.plot(theta, isotropic, 'b--', label=\"Isotrope\")\n",
    "    plt.legend(bbox_to_anchor=(0.95, 1), loc=2, frameon=False)\n",
    "    max_rdcsR = max(rel_dcs_Rayl)\n",
    "    plt.text(-0.5*np.pi,1.4*max_rdcsR,'${\\\\mu}/{\\\\rho}_{Rayleigh}$ = ' + \"{0:0.3f}\".format(cs_Rayl[0][0]) + ' cm$^2\\\\cdot$g$^{-1}$',ha='center',bbox=dict(facecolor='none',edgecolor='black',boxstyle='square'))\n",
    "    axR.set_rlim(0,max(rel_dcs_Rayl))\n",
    "    axR.grid(True)\n",
    "    labelR='Section efficace différentielle (DCS) (sr$^{-1}$) pour '\n",
    "    axR.set_title(labelR+symbol, y=1.15)\n",
    "\n",
    "    axL = plt.subplot(122, projection='polar')\n",
    "    axL.plot(theta, rel_dcs_Compt, label=\"Compton\", color=\"green\")\n",
    "    axL.plot(theta, isotropic, 'b--', label=\"Isotrope\")\n",
    "    plt.legend(bbox_to_anchor=(0.95, 1), loc=2, frameon=False)\n",
    "    max_rdcsC = max(rel_dcs_Compt)\n",
    "    plt.text(-0.5*np.pi,1.4*max_rdcsC,'${\\\\mu}/{\\\\rho}_{Compton}$ = ' + \"{0:0.3f}\".format(cs_Compt[0][0]) + ' cm$^2\\\\cdot$g$^{-1}$',ha='center',bbox=dict(facecolor='none',edgecolor='black',boxstyle='square'))\n",
    "    axL.set_rlim(0,max(rel_dcs_Compt))\n",
    "    axL.grid(True)\n",
    "    labelL=\"Section efficace différentielle (DCS) (sr$^{-1}$) pour \"\n",
    "    axL.set_title(labelL+symbol, y=1.15)\n",
    "\n",
    "    plt.tight_layout() # Or equivalently,  \"plt.tight_layout()\"\n",
    "\n",
    "    plt.show()\n",
    "    \n",
    "interact(dcs,Z=(1,92,1),E=(1.,600.,1.),continuous_update=False);"
   ]
  },
  {
   "cell_type": "markdown",
   "metadata": {
    "slideshow": {
     "slide_type": "slide"
    }
   },
   "source": [
    "# Compton scattering\n",
    "The energy of the photon after Compton scattering depends on the angle (assuming no Doppler broadening)\n",
    "$$\n",
    "E_{CS} = \\frac{E_0}{1+\\frac{E_0}{mc^2}\\left( 1 - \\cos\\theta_{CS}\\right)}\n",
    "$$"
   ]
  },
  {
   "cell_type": "code",
   "execution_count": null,
   "metadata": {
    "hide_input": true
   },
   "outputs": [],
   "source": [
    "def CS_energy(E=100.):\n",
    "    energies = np.array([E])\n",
    "    angle_range_rad = np.arange(0.,180., 0.1, dtype=np.double)*np.pi/180.\n",
    "    angle_range_deg = np.arange(0.,180., 0.1, dtype=np.double)\n",
    "    \n",
    "    energyCS = [xrl.ComptonEnergy(E,theta) for theta in angle_range_rad]\n",
    "    energyCe = [(E - xrl.ComptonEnergy(E,theta)) for theta in angle_range_rad]\n",
    "\n",
    "    plt.figure(1,dpi=150)\n",
    "    mpl.rcParams.update({'font.size': 6})\n",
    "    axMW = plt.subplot(111)\n",
    "    axMW.plot(angle_range_deg, energyCS,color=\"blue\",linewidth=2.,linestyle=\"-\",label=\"photon\")\n",
    "    axMW.plot(angle_range_deg, energyCe,color=\"green\",linewidth=2.,linestyle=\"-\",label=\"e-\")\n",
    "    plt.legend(loc='center left', frameon=True)\n",
    "    plt.xlabel('degrees')\n",
    "    plt.ylabel('keV')\n",
    "    axMW.set_xlim(0.,180.)\n",
    "    axMW.set_ylim(0.,E)\n",
    "    axMW.grid(which='major', axis='x', linewidth=0.5, linestyle='-', color='0.75')\n",
    "    axMW.grid(which='minor', axis='x', linewidth=0.3, linestyle='-', color='0.75')\n",
    "    axMW.grid(which='major', axis='y', linewidth=0.5, linestyle='-', color='0.75')\n",
    "    axMW.grid(which='minor', axis='y', linewidth=0.3, linestyle='-', color='0.75')\n",
    "    axMW.xaxis.set_major_formatter(tic.FormatStrFormatter(\"%d\"))\n",
    "    axMW.xaxis.set_minor_formatter(tic.FormatStrFormatter(\"%d\"))\n",
    "    axMW.grid(True)\n",
    "    axMW.set_title(\"Energy of the Compton scatter\", va='bottom')\n",
    "    \n",
    "    plt.show()\n",
    "\n",
    "interact(CS_energy,E=(1,5000,1),continuous_update=False);\n"
   ]
  },
  {
   "cell_type": "markdown",
   "metadata": {
    "slideshow": {
     "slide_type": "-"
    }
   },
   "source": [
    "# Refractive index: Phase vs Attenuation\n",
    "The complex refractive index is defined as\n",
    "$$n = 1 - \\delta + i \\beta$$\n",
    "where\n",
    "$$\\beta = \\mu \\frac{\\lambda}{\\pi}$$\n",
    "the EM-wave amplitude is\n",
    "$$u = I_0 \\exp\\left(i \\frac{2\\pi}{\\lambda}\\int_{r\\in ray} n(r) \\; dr\\right)\n",
    " = I_0 \\exp\\left(- \\frac{2\\pi}{\\lambda}\\int_{r\\in ray} \\beta(r) \\; dr\\right)\n",
    " \\exp\\left(i \\frac{2\\pi}{\\lambda}\\int_{r\\in ray} \\left(1 - \\delta(r)\\right) \\; dr\\right)$$\n",
    "which gives in terms of EM-wave energy\n",
    "$$ N_{DT} E = \\left\\|u\\right\\|^2 = \\left( I_0 \\exp\\left(- \\frac{2 \\pi}{\\lambda}\\int_{r\\in ray} \\beta \\; dr\\right) \\right)^2\n",
    "= I_0 \\exp\\left(-\\int_{r\\in ray} \\mu \\; dr\\right)$$"
   ]
  },
  {
   "cell_type": "code",
   "execution_count": null,
   "metadata": {
    "scrolled": false
   },
   "outputs": [],
   "source": [
    "def DeltaBeta(mat=\"Al\"):\n",
    "\n",
    "    energy_range = np.arange(5.,800., 0.1, dtype=np.double)\n",
    "\n",
    "    rho = 1.0\n",
    "    ratio = [ (1. - xrl.Refractive_Index_Re(mat, E, float(rho)))/xrl.Refractive_Index_Im(mat, E, float(rho)) for E in energy_range]\n",
    "    ratioAl = [ (1. - xrl.Refractive_Index_Re(\"Al\", E, float(rho)))/xrl.Refractive_Index_Im(\"Al\", E, float(rho)) for E in energy_range]\n",
    "    \n",
    "    plt.figure(1,dpi=150)\n",
    "    axMW = plt.subplot(111)\n",
    "    axMW.plot(energy_range, ratio,color=\"red\",linewidth=2.,linestyle=\"-\",label=mat)\n",
    "    axMW.plot(energy_range, ratioAl,color=\"blue\",linewidth=2.,linestyle=\"-\",label=mat)\n",
    "    #axMW.plot(energy_range, W_murho_Energy[0])\n",
    "    axMW.set_xscale('log')\n",
    "    axMW.set_yscale('log')\n",
    "    axMW.set_xlim(5.,800.)\n",
    "    #axMW.set_ylim(0.05,50.)\n",
    "    plt.legend(loc='lower right', frameon=True)\n",
    "    plt.xlabel('Energy (keV)')\n",
    "    plt.ylabel('Ratio $\\\\delta/\\\\beta$')\n",
    "    axMW.grid(which='major', axis='x', linewidth=0.5, linestyle='-', color='0.75')\n",
    "    axMW.grid(which='minor', axis='x', linewidth=0.3, linestyle='-', color='0.75')\n",
    "    axMW.grid(which='major', axis='y', linewidth=0.5, linestyle='-', color='0.75')\n",
    "    axMW.grid(which='minor', axis='y', linewidth=0.3, linestyle='-', color='0.75')\n",
    "    axMW.xaxis.set_major_formatter(tic.FormatStrFormatter(\"%d\"))\n",
    "    #axMW.xaxis.set_minor_formatter(tic.FormatStrFormatter(\"%d\"))\n",
    "    axMW.grid(True)\n",
    "    axMW.set_title(\"Phase vs Attenuation\", va='bottom')\n",
    "    #plt.savefig('mu_over_rho_W.pdf', format='PDF')\n",
    "    \n",
    "    plt.show()\n",
    "\n",
    "interact(DeltaBeta,mat=\"Al\",continuous_update=False);"
   ]
  },
  {
   "cell_type": "code",
   "execution_count": null,
   "metadata": {},
   "outputs": [],
   "source": []
  },
  {
   "cell_type": "code",
   "execution_count": null,
   "metadata": {},
   "outputs": [],
   "source": []
  },
  {
   "cell_type": "code",
   "execution_count": null,
   "metadata": {},
   "outputs": [],
   "source": []
  },
  {
   "cell_type": "code",
   "execution_count": null,
   "metadata": {},
   "outputs": [],
   "source": []
  }
 ],
 "metadata": {
  "hide_input": false,
  "kernelspec": {
   "display_name": "Python 3 (ipykernel)",
   "language": "python",
   "name": "python3"
  },
  "language_info": {
   "codemirror_mode": {
    "name": "ipython",
    "version": 3
   },
   "file_extension": ".py",
   "mimetype": "text/x-python",
   "name": "python",
   "nbconvert_exporter": "python",
   "pygments_lexer": "ipython3",
   "version": "3.8.8"
  }
 },
 "nbformat": 4,
 "nbformat_minor": 2
}
